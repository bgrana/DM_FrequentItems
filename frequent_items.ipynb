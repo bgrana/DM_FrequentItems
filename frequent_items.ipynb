{
 "cells": [
  {
   "cell_type": "code",
   "execution_count": 2,
   "metadata": {
    "collapsed": true
   },
   "outputs": [],
   "source": [
    "from itertools import combinations,permutations\n",
    "from collections import deque\n",
    "import numpy as np"
   ]
  },
  {
   "cell_type": "code",
   "execution_count": 18,
   "metadata": {
    "collapsed": false
   },
   "outputs": [],
   "source": [
    "class Frequent_items:\n",
    "    \"\"\"Implementation of the Apriori algorithm for frequent itemsets detection proposed\n",
    "    in the paper 'Fast Algorithms for Mining Association Rules' by R. Agrawal and R. Srikant.\n",
    "    \"\"\"\n",
    "    def __init__(self, filepath):\n",
    "        \"\"\"\n",
    "        Initialization method that receives a filepath from which read information.\n",
    "        \n",
    "        filepath:   Path to the file containing the transactions (one per line),\n",
    "                    each represented as a set of integers separated by spaces.\n",
    "        \"\"\"\n",
    "        with open(filepath, \"r\") as f:\n",
    "            self.transactions = {}\n",
    "            for i,line in enumerate(f.readlines()):\n",
    "                for elem in line.split():\n",
    "                    try:\n",
    "                        elem = int(elem)\n",
    "                    except ValueError:\n",
    "                        pass\n",
    "                    if elem not in self.transactions:\n",
    "                        self.transactions[elem] = set()\n",
    "                    self.transactions[elem].add(i)\n",
    "            self.c1 = [({elem}, len(indices)) for elem, indices in self.transactions.items()]\n",
    "\n",
    "    def _get_support(self, itemsets):\n",
    "        \"\"\"\n",
    "        This method computes the support of a collection of itemsets based on the\n",
    "        transactions.\n",
    "        \n",
    "        itemsets: An iterable of Python sets representing itemsets.\n",
    "        returns:  An iterable of 2-tuples where the first element is\n",
    "                  a set (representing an itemset) and the second one\n",
    "                  is an integer (representing the support).\n",
    "        \"\"\"\n",
    "        # Initialize counts\n",
    "        supports = deque()\n",
    "        for iset in itemsets:\n",
    "            common_indices = set.intersection(*[self.transactions[item] for item in iset])\n",
    "            supports.append((iset, len(common_indices)))\n",
    "        return supports\n",
    "    \n",
    "    def _next_candidates(self, lprev):\n",
    "        \"\"\"\n",
    "        Find the set of candidates based on the previous frequent\n",
    "        (k-1)-itemsets.\n",
    "        \n",
    "        lprev:      The collection of previous large (k-1)-itemsets as\n",
    "                    an an iterable of sets.\n",
    "        returns:    An iterable of 2-tuples where the first element is\n",
    "                    a set (representing an itemset) and the second one\n",
    "                    is an integer (representing the support).\n",
    "                \n",
    "        \"\"\"\n",
    "        lprev = [set(itemset) for itemset in lprev.keys()]\n",
    "        k = len(lprev[0])+1\n",
    "        \n",
    "        # Join (k-1)-itemsets to get all candidates of size k\n",
    "        allcandidates = [s1 | s2 for s1 in lprev for s2 in lprev\n",
    "                                 if len(s1 | s2) == k]\n",
    "        \n",
    "        # Filter out candidates which have some (k-1) subset not\n",
    "        # identified as a large (k-1)-itemset\n",
    "        candidates = deque()\n",
    "        for iset in allcandidates:\n",
    "            # Compute subsets of k-1 elements\n",
    "            # Number of (k-1) combinations for a set of\n",
    "            # k elements is precisely k (binomial coefficient(k,k-1))\n",
    "            # so len(subsets) is k\n",
    "            subsets = [set(x) for x in combinations(iset, k-1)]\n",
    "            for i in range(k):\n",
    "                if subsets[i] not in lprev:\n",
    "                    break\n",
    "                if i == k-1 and iset not in candidates: # Last iteration\n",
    "                    candidates.append(iset)\n",
    "            \n",
    "        # Return candidates with their corresponding support\n",
    "        return self._get_support(candidates)\n",
    "\n",
    "    def _filter_candidates(self, candidates):\n",
    "        \"\"\"\n",
    "        This methods select only those candidates such that their\n",
    "        support is greater than or equal the support threshold.\n",
    "        \n",
    "        candidates: An iterable of 2-tuples where the first element is\n",
    "                    a set (representing an itemset) and the second one\n",
    "                    is an integer (representing the support).\n",
    "        returns:    An iterable of itemsets as sets.\n",
    "        \"\"\"\n",
    "        # Filter out itemsets with low support\n",
    "        return {tuple(itemset):sup for itemset,sup in candidates\n",
    "                        if sup >= self.minsup}\n",
    "    \n",
    "    def get_frequent_items(self, minsup):\n",
    "        \"\"\"\n",
    "        Get the frequent items of the loaded transactions based on the\n",
    "        provided support threshold.\n",
    "        \n",
    "        minsup:    Support threshold for the itemsets filtering.\n",
    "        returns:   The identified frequent items as a set of tuples.\n",
    "        \"\"\"\n",
    "        # Initialize variables\n",
    "        self.minsup = minsup\n",
    "        l = fi._filter_candidates(self.c1)\n",
    "        answer = l\n",
    "        \n",
    "        # Updates candidates and answer\n",
    "        while l:\n",
    "            ck = fi._next_candidates(l)\n",
    "            l = fi._filter_candidates(ck)\n",
    "            answer.update(l)\n",
    "        \n",
    "        return answer\n",
    "    \n",
    "    def _get_confidence(self, union_supp, pre_supp):\n",
    "        return union_supp/pre_supp\n",
    "    \n",
    "    def get_rules(self, min_confidence, itemsets):\n",
    "        relevant_items = {}\n",
    "        for item,support in itemsets.items():\n",
    "            if len(item) > 1:\n",
    "                \n",
    "                # Add >2-tuple value\n",
    "                relevant_items[frozenset(item)] = support\n",
    "                \n",
    "                # Add 1-tuple values\n",
    "                relevant_items[frozenset([item[0]])] = itemsets[tuple([item[0]])]\n",
    "                relevant_items[frozenset([item[1]])] = itemsets[tuple([item[1]])]\n",
    "        \n",
    "        possible_rules = permutations(relevant_items, 2)\n",
    "        rules = []\n",
    "        for rule in possible_rules:\n",
    "            if set(rule[0]) & set(rule[1]) or frozenset(set(rule[0]) | set(rule[1])) not in relevant_items.keys():\n",
    "                continue\n",
    "            \n",
    "            union_supp = relevant_items[frozenset(set(rule[0]) | set(rule[1]))]\n",
    "            pre_supp = relevant_items[frozenset(rule[0])]\n",
    "\n",
    "            if self._get_confidence(union_supp, pre_supp) >= min_confidence:\n",
    "                rules.append((tuple(rule[0]),tuple(rule[1])))\n",
    "\n",
    "        return rules"
   ]
  },
  {
   "cell_type": "code",
   "execution_count": 19,
   "metadata": {
    "collapsed": false
   },
   "outputs": [
    {
     "name": "stdout",
     "output_type": "stream",
     "text": [
      "{('E',): 3, ('C', 'A'): 2, ('A',): 2, ('C',): 3, ('E', 'C'): 2, ('B',): 3, ('E', 'C', 'B'): 2, ('B', 'E'): 3, ('B', 'C'): 2}\n"
     ]
    },
    {
     "data": {
      "text/plain": [
       "[(('E',), ('B',)),\n",
       " (('B', 'C'), ('E',)),\n",
       " (('E', 'C'), ('B',)),\n",
       " (('B',), ('E',)),\n",
       " (('A',), ('C',))]"
      ]
     },
     "execution_count": 19,
     "metadata": {},
     "output_type": "execute_result"
    }
   ],
   "source": [
    "fi = Frequent_items(\"data/small_test.dat\")\n",
    "freq = fi.get_frequent_items(2)\n",
    "print(freq)\n",
    "fi.get_rules(1, freq)"
   ]
  },
  {
   "cell_type": "code",
   "execution_count": 5,
   "metadata": {
    "collapsed": false
   },
   "outputs": [
    {
     "data": {
      "text/plain": [
       "{(368,): 7828, (529,): 7057}"
      ]
     },
     "execution_count": 5,
     "metadata": {},
     "output_type": "execute_result"
    }
   ],
   "source": [
    "fi = Frequent_items('data/T10I4D100K.dat')\n",
    "fi.get_frequent_items(7000)"
   ]
  },
  {
   "cell_type": "code",
   "execution_count": 22,
   "metadata": {
    "collapsed": false
   },
   "outputs": [
    {
     "name": "stdout",
     "output_type": "stream",
     "text": [
      "{(854,): 2847, (162,): 1450, (829,): 6810, (766,): 6265, (804,): 1315, (368,): 7828, (422,): 1255, (227, 390): 1049, (716,): 1199, (334,): 2146, (628,): 1102, (309,): 1262, (960,): 2732, (641,): 1494, (578,): 1290, (259,): 1522, (196,): 2096, (490,): 1066, (171,): 1097, (440,): 1943, (377,): 1149, (788,): 2386, (58,): 1330, (33,): 1460, (343,): 1599, (8,): 3090, (675,): 2976, (944,): 2794, (935,): 1742, (205,): 3605, (910,): 1695, (449,): 1890, (130,): 1711, (797,): 2684, (424,): 1448, (361,): 1104, (336,): 1071, (390,): 2685, (17,): 1683, (684,): 5408, (978,): 1141, (239,): 2742, (890,): 1437, (928,): 1034, (571,): 2902, (214,): 1893, (919,): 3710, (546,): 1050, (126,): 1075, (521,): 1582, (458,): 1124, (752,): 2578, (51,): 1612, (718,): 1238, (630,): 1523, (1,): 1535, (605,): 1652, (937,): 4681, (580,): 1667, (874,): 2237, (912,): 1009, (198,): 1461, (530,): 1263, (173,): 1080, (110,): 1801, (815,): 1358, (85,): 1555, (736,): 1470, (790,): 1094, (354,): 5835, (392,): 2420, (35,): 1984, (639,): 1572, (10,): 1351, (614,): 3134, (946,): 1350, (883,): 4902, (921,): 2425, (207,): 1214, (157,): 1140, (94,): 1201, (132,): 2641, (69,): 2370, (720,): 3864, (774,): 2046, (401,): 3667, (632,): 1070, (686,): 1495, (623,): 1845, (661,): 2693, (598,): 3219, (279,): 3014, (573,): 1229, (867,): 1530, (510,): 3281, (548,): 2843, (112,): 2680, (523,): 2244, (704, 39): 1107, (460,): 4438, (792,): 1306, (78,): 2471, (217, 346): 1336, (704,): 1794, (385,): 1676, (28,): 1454, (322,): 1154, (989,): 1289, (964,): 1518, (234,): 1416, (829, 789): 1194, (914,): 4037, (494,): 5102, (175,): 2791, (826,): 2022, (469,): 1502, (763,): 1862, (738,): 2129, (381,): 2959, (419,): 5057, (394,): 1145, (37,): 1249, (688,): 1132, (998,): 2713, (12,): 3415, (600,): 1192, (948,): 1149, (591,): 1241, (885,): 3043, (923,): 1753, (860,): 1255, (541,): 3735, (168,): 1538, (105,): 1100, (516,): 1544, (810,): 1267, (428,): 1021, (71,): 3507, (722,): 5845, (403,): 1722, (634,): 2492, (21,): 2666, (982,): 1640, (663,): 2354, (290,): 1793, (227,): 1818, (265,): 1359, (932,): 1786, (496,): 1428, (550,): 1203, (177,): 4629, (844,): 2814, (487,): 3135, (819,): 1257, (143,): 1417, (769,): 1622, (55,): 1959, (706,): 1923, (349,): 2041, (387,): 2089, (991,): 1268, (618,): 1337, (5,): 1094, (966,): 3921, (593,): 2601, (236,): 2618, (274,): 2628, (941,): 1126, (878,): 2047, (853,): 1804, (480,): 2309, (534,): 1531, (161,): 2320, (471,): 2894, (765,): 1705, (803,): 2237, (73,): 2179, (740,): 1632, (778,): 2514, (48,): 2472, (39,): 4258, (984,): 1756, (665,): 1297, (308,): 1402, (975,): 1764, (283,): 4082, (950,): 1463, (577,): 1695, (887,): 1671, (258,): 1036, (862,): 3649, (489,): 3420, (900,): 1165, (170,): 1203, (145,): 4559, (812,): 1518, (749,): 1330, (57,): 2743, (405,): 1525, (32,): 4248, (674,): 2527, (611,): 1444, (649,): 1292, (229,): 2281, (722, 390): 1042, (561,): 2783, (204,): 2174, (871,): 2810, (846,): 1480, (116,): 2193, (527,): 1185, (154,): 1447, (448,): 1370, (758,): 2860, (129,): 1547, (733,): 1141, (414,): 1160, (41,): 1353, (708,): 1090, (351,): 1641, (326,): 1488, (620,): 2100, (658,): 1881, (952,): 1574, (276,): 2479, (918,): 3012, (125,): 1287, (163,): 1256, (100,): 1749, (805,): 1789, (75,): 3151, (780,): 2306, (423,): 1412, (825, 39): 1187, (25,): 1395, (692,): 4993, (335,): 1345, (310,): 1390, (704, 825): 1102, (285,): 2600, (579,): 2164, (554,): 1114, (197,): 1230, (529,): 7057, (147,): 1383, (814,): 1672, (378,): 1149, (789,): 4309, (701,): 1283, (995,): 1521, (638,): 2288, (676,): 2717, (319,): 1371, (970,): 2086, (240,): 1399, (651,): 1288, (294,): 1445, (563,): 1065, (857,): 1588, (500,): 1444, (538,): 3982, (181,): 1235, (832,): 2062, (513,): 1287, (823,): 1031, (450,): 2082, (93,): 2777, (744,): 2177, (798,): 3103, (68,): 1601, (735,): 1689, (362,): 4388, (43,): 1721, (710,): 1044, (597,): 2883, (572,): 1589, (509,): 3044, (841,): 1927, (522,): 2725, (140,): 2687, (782,): 2767, (52,): 1983, (346,): 3470, (27,): 2165, (694,): 2847, (988,): 1164, (631,): 2793, (296,): 2210, (963,): 1327, (606,): 2668, (581,): 2943, (208,): 1483, (913,): 1939, (120,): 4973, (825,): 3085, (468,): 1089, (111,): 1171, (800,): 1916, (678,): 1329, (242,): 2325, (653,): 2634, (280,): 2108, (947,): 3690, (217,): 5375, (884,): 1645, (192,): 2004, (859,): 1242, (368, 682): 1193, (897,): 1935, (540,): 1293, (183,): 3883, (834,): 1373, (477,): 2462, (104,): 1158, (515,): 1166, (809,): 2163, (746,): 1982, (784,): 1257, (427,): 1856, (70,): 2411, (775,): 3771, (45,): 1728, (687,): 1762, (981,): 1542, (956,): 3626, (893,): 1947, (574,): 1297, (201,): 1029, (511,): 1015, (906,): 1444, (843,): 1222, (486,): 1547, (461,): 1498, (793,): 3063, (373,): 2007, (704, 825, 39): 1035, (411,): 2047, (54,): 2595, (348,): 1226, (617,): 2614, (4,): 1394, (583,): 1389, (210,): 2009, (504,): 1296, (185,): 1529, (122,): 1081, (470,): 4137, (97,): 1466, (151,): 2611, (72,): 2852, (357,): 1142, (38,): 2402, (332,): 1861, (949,): 1414, (576,): 1337, (886,): 3053, (567,): 1102, (899,): 1252, (517,): 1201, (429,): 1037, (366,): 1031, (992,): 1116, (673,): 1635, (895,): 3385, (266,): 1022, (472,): 2125, (115,): 1775, (526,): 2793, (820,): 1473, (90,): 1875, (368, 829): 1194, (795,): 3361, (438,): 4511, (413,): 2637, (707,): 1354, (350,): 3069, (31,): 1666, (682,): 4132, (325,): 1022, (6,): 2149, (967,): 1695, (594,): 1516, (888,): 3686, (275,): 1692, (569,): 2835}\n",
      "         1673651 function calls in 172.947 seconds\n",
      "\n",
      "   Ordered by: internal time\n",
      "\n",
      "   ncalls  tottime  percall  cumtime  percall filename:lineno(function)\n",
      "        3  168.223   56.074  172.292   57.431 <ipython-input-18-a1cb714c9831>:42(_next_candidates)\n",
      "        3    3.540    1.180    3.596    1.199 <ipython-input-18-a1cb714c9831>:25(_get_support)\n",
      "        1    0.391    0.391    0.618    0.618 <ipython-input-18-a1cb714c9831>:5(__init__)\n",
      "   140262    0.289    0.000    0.289    0.000 <ipython-input-18-a1cb714c9831>:69(<listcomp>)\n",
      "  1010228    0.170    0.000    0.170    0.000 {method 'add' of 'set' objects}\n",
      "        3    0.165    0.055    0.170    0.057 <ipython-input-18-a1cb714c9831>:58(<listcomp>)\n",
      "    70126    0.045    0.000    0.045    0.000 <ipython-input-18-a1cb714c9831>:38(<listcomp>)\n",
      "   100000    0.033    0.000    0.033    0.000 {method 'split' of 'str' objects}\n",
      "   140252    0.020    0.000    0.020    0.000 {method 'append' of 'collections.deque' objects}\n",
      "        1    0.017    0.017    0.635    0.635 <ipython-input-22-2899a18a1fed>:4(<module>)\n",
      "        1    0.014    0.014    0.014    0.014 <ipython-input-18-a1cb714c9831>:23(<listcomp>)\n",
      "        1    0.013    0.013  172.311  172.311 <ipython-input-18-a1cb714c9831>:93(get_frequent_items)\n",
      "   211706    0.011    0.000    0.011    0.000 {built-in method len}\n",
      "        1    0.010    0.010    0.010    0.010 {method 'readlines' of '_io._IOBase' objects}\n",
      "        4    0.006    0.001    0.006    0.001 <ipython-input-18-a1cb714c9831>:90(<dictcomp>)\n",
      "      492    0.000    0.000    0.000    0.000 {built-in method utf_8_decode}\n",
      "        1    0.000    0.000    0.000    0.000 {built-in method open}\n",
      "      492    0.000    0.000    0.001    0.000 /usr/lib/python3.4/codecs.py:310(decode)\n",
      "        1    0.000    0.000    0.000    0.000 {built-in method print}\n",
      "        4    0.000    0.000    0.000    0.000 {built-in method compile}\n",
      "        3    0.000    0.000    0.000    0.000 <ipython-input-18-a1cb714c9831>:54(<listcomp>)\n",
      "        1    0.000    0.000  172.311  172.311 <ipython-input-22-2899a18a1fed>:5(<module>)\n",
      "        4    0.000    0.000  172.946   43.237 /usr/local/lib/python3.4/dist-packages/IPython/core/interactiveshell.py:2851(run_code)\n",
      "        4    0.000    0.000    0.000    0.000 /usr/lib/python3.4/codeop.py:132(__call__)\n",
      "        2    0.000    0.000    0.000    0.000 /usr/local/lib/python3.4/dist-packages/ipykernel/iostream.py:309(write)\n",
      "        1    0.000    0.000    0.000    0.000 /usr/local/lib/python3.4/dist-packages/tornado/ioloop.py:932(add_callback)\n",
      "        4    0.000    0.000    0.000    0.000 /usr/local/lib/python3.4/dist-packages/IPython/core/hooks.py:139(__call__)\n",
      "        1    0.000    0.000    0.000    0.000 /usr/lib/python3.4/codecs.py:300(__init__)\n",
      "        4    0.000    0.000  172.946   43.237 {built-in method exec}\n",
      "        4    0.000    0.000    0.006    0.001 <ipython-input-18-a1cb714c9831>:79(_filter_candidates)\n",
      "        2    0.000    0.000    0.000    0.000 /usr/local/lib/python3.4/dist-packages/ipykernel/iostream.py:241(_schedule_flush)\n",
      "        1    0.000    0.000    0.000    0.000 {method 'write' of '_io.FileIO' objects}\n",
      "        4    0.000    0.000    0.000    0.000 /usr/local/lib/python3.4/dist-packages/IPython/utils/ipstruct.py:125(__getattr__)\n",
      "        1    0.000    0.000    0.000    0.000 /usr/local/lib/python3.4/dist-packages/tornado/stack_context.py:253(wrap)\n",
      "        1    0.000    0.000    0.000    0.000 /usr/lib/python3.4/_bootlocale.py:23(getpreferredencoding)\n",
      "        3    0.000    0.000    0.000    0.000 {method 'update' of 'dict' objects}\n",
      "        2    0.000    0.000    0.000    0.000 /usr/local/lib/python3.4/dist-packages/ipykernel/iostream.py:228(_is_master_process)\n",
      "        1    0.000    0.000    0.000    0.000 <ipython-input-22-2899a18a1fed>:6(<module>)\n",
      "        1    0.000    0.000    0.000    0.000 {built-in method nl_langinfo}\n",
      "        1    0.000    0.000    0.000    0.000 <ipython-input-22-2899a18a1fed>:7(<module>)\n",
      "        1    0.000    0.000    0.000    0.000 /usr/local/lib/python3.4/dist-packages/tornado/platform/posix.py:53(wake)\n",
      "        4    0.000    0.000    0.000    0.000 /usr/local/lib/python3.4/dist-packages/IPython/core/interactiveshell.py:1065(user_global_ns)\n",
      "        1    0.000    0.000    0.000    0.000 /usr/lib/python3.4/codecs.py:251(__init__)\n",
      "        4    0.000    0.000    0.000    0.000 /usr/local/lib/python3.4/dist-packages/IPython/core/hooks.py:204(pre_run_code_hook)\n",
      "        2    0.000    0.000    0.000    0.000 {built-in method isinstance}\n",
      "        2    0.000    0.000    0.000    0.000 {built-in method getpid}\n",
      "        2    0.000    0.000    0.000    0.000 {method 'write' of '_io.StringIO' objects}\n",
      "        1    0.000    0.000    0.000    0.000 {method 'append' of 'list' objects}\n",
      "        3    0.000    0.000    0.000    0.000 {method 'keys' of 'dict' objects}\n",
      "        1    0.000    0.000    0.000    0.000 {built-in method hasattr}\n",
      "        1    0.000    0.000    0.000    0.000 {method 'items' of 'dict' objects}\n",
      "        1    0.000    0.000    0.000    0.000 {method 'disable' of '_lsprof.Profiler' objects}\n",
      "        1    0.000    0.000    0.000    0.000 {built-in method get_ident}\n",
      "\n",
      "\n",
      "\n"
     ]
    },
    {
     "data": {
      "text/plain": [
       "[((39,), (704,)),\n",
       " ((39,), (704, 825)),\n",
       " ((39,), (825,)),\n",
       " ((682,), (368,)),\n",
       " ((227,), (390,)),\n",
       " ((704, 39), (825,)),\n",
       " ((825, 39), (704,)),\n",
       " ((217,), (346,)),\n",
       " ((789,), (829,)),\n",
       " ((346,), (217,)),\n",
       " ((829,), (789,)),\n",
       " ((829,), (368,)),\n",
       " ((704,), (39,)),\n",
       " ((704,), (825, 39)),\n",
       " ((704,), (825,)),\n",
       " ((390,), (227,)),\n",
       " ((390,), (722,)),\n",
       " ((704, 825), (39,)),\n",
       " ((722,), (390,)),\n",
       " ((825,), (39,)),\n",
       " ((825,), (704, 39)),\n",
       " ((825,), (704,)),\n",
       " ((368,), (682,)),\n",
       " ((368,), (829,))]"
      ]
     },
     "execution_count": 22,
     "metadata": {},
     "output_type": "execute_result"
    }
   ],
   "source": [
    "import cProfile, pstats, io\n",
    "pr = cProfile.Profile()\n",
    "pr.enable()\n",
    "fi = Frequent_items('data/T10I4D100K.dat')\n",
    "freq = fi.get_frequent_items(1000)\n",
    "print(freq)\n",
    "pr.disable()\n",
    "s = io.StringIO()\n",
    "sortby = 'time'\n",
    "ps = pstats.Stats(pr, stream=s).sort_stats(sortby)\n",
    "ps.print_stats()\n",
    "print(s.getvalue())\n",
    "fi.get_rules(0, freq)"
   ]
  }
 ],
 "metadata": {
  "kernelspec": {
   "display_name": "Python 3",
   "language": "python",
   "name": "python3"
  },
  "language_info": {
   "codemirror_mode": {
    "name": "ipython",
    "version": 3
   },
   "file_extension": ".py",
   "mimetype": "text/x-python",
   "name": "python",
   "nbconvert_exporter": "python",
   "pygments_lexer": "ipython3",
   "version": "3.4.2"
  }
 },
 "nbformat": 4,
 "nbformat_minor": 1
}
