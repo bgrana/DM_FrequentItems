{
 "cells": [
  {
   "cell_type": "code",
   "execution_count": 19,
   "metadata": {
    "collapsed": true
   },
   "outputs": [],
   "source": [
    "from itertools import combinations\n",
    "from collections import deque\n",
    "import numpy as np"
   ]
  },
  {
   "cell_type": "code",
   "execution_count": 20,
   "metadata": {
    "collapsed": false
   },
   "outputs": [],
   "source": [
    "class Frequent_items:\n",
    "    \"\"\"Implementation of the Apriori algorithm for frequent itemsets detection proposed\n",
    "    in the paper 'Fast Algorithms for Mining Association Rules' by R. Agrawal and R. Srikant.\n",
    "    \"\"\"\n",
    "    def __init__(self, filepath):\n",
    "        \"\"\"\n",
    "        Initialization method that receives a filepath from which read information.\n",
    "        \n",
    "        filepath:   Path to the file containing the transactions (one per line),\n",
    "                    each represented as a set of integers separated by spaces.\n",
    "        \"\"\"\n",
    "        with open(filepath, \"r\") as f:\n",
    "            self.transactions = {}\n",
    "            for i,line in enumerate(f.readlines()):\n",
    "                for elem in line.split():\n",
    "                    try:\n",
    "                        elem = int(elem)\n",
    "                    except ValueError:\n",
    "                        pass\n",
    "                    if elem not in self.transactions:\n",
    "                        self.transactions[elem] = set()\n",
    "                    self.transactions[elem].add(i)\n",
    "            self.c1 = [({elem}, len(indices)) for elem, indices in self.transactions.items()]\n",
    "\n",
    "    def _get_support(self, itemsets):\n",
    "        \"\"\"\n",
    "        This method computes the support of a collection of itemsets based on the\n",
    "        transactions.\n",
    "        \n",
    "        itemsets: An iterable of Python sets representing itemsets.\n",
    "        returns:  An iterable of 2-tuples where the first element is\n",
    "                  a set (representing an itemset) and the second one\n",
    "                  is an integer (representing the support).\n",
    "        \"\"\"\n",
    "        # Initialize counts\n",
    "        supports = deque()\n",
    "        for iset in itemsets:\n",
    "            common_indices = set.intersection(*[self.transactions[item] for item in iset])\n",
    "            supports.append((iset, len(common_indices)))\n",
    "        return supports\n",
    "    \n",
    "    def _next_candidates(self, lprev):\n",
    "        \"\"\"\n",
    "        Find the set of candidates based on the previous frequent\n",
    "        (k-1)-itemsets.\n",
    "        \n",
    "        lprev:      The collection of previous large (k-1)-itemsets as\n",
    "                    an an iterable of sets.\n",
    "        returns:    An iterable of 2-tuples where the first element is\n",
    "                    a set (representing an itemset) and the second one\n",
    "                    is an integer (representing the support).\n",
    "                \n",
    "        \"\"\"\n",
    "        k = len(lprev[0])+1\n",
    "        \n",
    "        # Join (k-1)-itemsets to get all candidates of size k\n",
    "        allcandidates = [s1 | s2 for s1 in lprev for s2 in lprev\n",
    "                                 if len(s1 | s2) == k]\n",
    "        \n",
    "        # Filter out candidates which have some (k-1) subset not\n",
    "        # identified as a large (k-1)-itemset\n",
    "        candidates = deque()\n",
    "        for iset in allcandidates:\n",
    "            # Compute subsets of k-1 elements\n",
    "            # Number of (k-1) combinations for a set of\n",
    "            # k elements is precisely k (binomial coefficient(k,k-1))\n",
    "            # so len(subsets) is k\n",
    "            subsets = [set(x) for x in combinations(iset, k-1)]\n",
    "            for i in range(k):\n",
    "                if subsets[i] not in lprev:\n",
    "                    break\n",
    "                if i == k-1 and iset not in candidates: # Last iteration\n",
    "                    candidates.append(iset)\n",
    "            \n",
    "        # Return candidates with their corresponding support\n",
    "        return self._get_support(candidates)\n",
    "\n",
    "    def _filter_candidates(self, candidates):\n",
    "        \"\"\"\n",
    "        This methods select only those candidates such that their\n",
    "        support is greater than or equal the support threshold.\n",
    "        \n",
    "        candidates: An iterable of 2-tuples where the first element is\n",
    "                    a set (representing an itemset) and the second one\n",
    "                    is an integer (representing the support).\n",
    "        returns:    An iterable of itemsets as sets.\n",
    "        \"\"\"\n",
    "        # Filter out itemsets with low support\n",
    "        return [itemset for itemset,sup in candidates\n",
    "                        if sup >= self.minsup]\n",
    "    \n",
    "    def get_frequent_items(self, minsup):\n",
    "        \"\"\"\n",
    "        Get the frequent items of the loaded transactions based on the\n",
    "        provided support threshold.\n",
    "        \n",
    "        minsup:    Support threshold for the itemsets filtering.\n",
    "        returns:   The identified frequent items as a set of tuples.\n",
    "        \"\"\"\n",
    "        # Initialize variables\n",
    "        self.minsup = minsup\n",
    "        l = fi._filter_candidates(self.c1)\n",
    "        answer = l\n",
    "        \n",
    "        # Updates candidates and answer\n",
    "        while l:\n",
    "            ck = fi._next_candidates(l)\n",
    "            l = fi._filter_candidates(ck)\n",
    "            answer += l\n",
    "        \n",
    "        return answer"
   ]
  },
  {
   "cell_type": "code",
   "execution_count": 21,
   "metadata": {
    "collapsed": false
   },
   "outputs": [
    {
     "data": {
      "text/plain": [
       "[{'E'},\n",
       " {'A'},\n",
       " {'B'},\n",
       " {'C'},\n",
       " {'B', 'E'},\n",
       " {'C', 'E'},\n",
       " {'A', 'C'},\n",
       " {'B', 'C'},\n",
       " {'B', 'C', 'E'}]"
      ]
     },
     "execution_count": 21,
     "metadata": {},
     "output_type": "execute_result"
    }
   ],
   "source": [
    "fi = Frequent_items(\"data/small_test.dat\")\n",
    "fi.get_frequent_items(2)"
   ]
  },
  {
   "cell_type": "code",
   "execution_count": 22,
   "metadata": {
    "collapsed": false
   },
   "outputs": [
    {
     "data": {
      "text/plain": [
       "[{368}, {529}]"
      ]
     },
     "execution_count": 22,
     "metadata": {},
     "output_type": "execute_result"
    }
   ],
   "source": [
    "fi = Frequent_items('data/T10I4D100K.dat')\n",
    "fi.get_frequent_items(7000)"
   ]
  },
  {
   "cell_type": "code",
   "execution_count": 23,
   "metadata": {
    "collapsed": false
   },
   "outputs": [
    {
     "name": "stdout",
     "output_type": "stream",
     "text": [
      "[{6}, {8}, {12}, {21}, {27}, {32}, {38}, {39}, {48}, {54}, {57}, {69}, {70}, {71}, {72}, {73}, {75}, {78}, {93}, {112}, {116}, {120}, {132}, {140}, {145}, {151}, {161}, {175}, {177}, {183}, {192}, {196}, {204}, {205}, {210}, {217}, {229}, {236}, {239}, {242}, {274}, {276}, {279}, {280}, {283}, {285}, {296}, {334}, {346}, {349}, {350}, {354}, {362}, {368}, {373}, {381}, {387}, {390}, {392}, {401}, {411}, {413}, {419}, {438}, {450}, {460}, {470}, {471}, {472}, {477}, {480}, {487}, {489}, {494}, {509}, {510}, {522}, {523}, {526}, {529}, {538}, {541}, {548}, {561}, {569}, {571}, {579}, {581}, {593}, {597}, {598}, {606}, {614}, {617}, {620}, {631}, {634}, {638}, {653}, {661}, {663}, {674}, {675}, {676}, {682}, {684}, {692}, {694}, {720}, {722}, {738}, {744}, {752}, {758}, {766}, {774}, {775}, {778}, {780}, {782}, {788}, {789}, {793}, {795}, {797}, {798}, {803}, {809}, {825}, {826}, {829}, {832}, {844}, {854}, {862}, {871}, {874}, {878}, {883}, {885}, {886}, {888}, {895}, {914}, {918}, {919}, {921}, {937}, {944}, {947}, {956}, {960}, {966}, {970}, {998}]\n",
      "         1207783 function calls in 13.075 seconds\n",
      "\n",
      "   Ordered by: internal time\n",
      "\n",
      "   ncalls  tottime  percall  cumtime  percall filename:lineno(function)\n",
      "        1    8.771    8.771   10.479   10.479 <ipython-input-20-f297cc635c86>:42(_next_candidates)\n",
      "        1    1.600    1.600    2.533    2.533 <ipython-input-20-f297cc635c86>:5(__init__)\n",
      "        1    1.440    1.440    1.474    1.474 <ipython-input-20-f297cc635c86>:25(_get_support)\n",
      "  1010228    0.707    0.000    0.707    0.000 {method 'add' of 'set' objects}\n",
      "        1    0.144    0.144    0.157    0.157 <ipython-input-20-f297cc635c86>:57(<listcomp>)\n",
      "   100000    0.133    0.000    0.133    0.000 {method 'split' of 'str' objects}\n",
      "    23870    0.069    0.000    0.069    0.000 <ipython-input-20-f297cc635c86>:68(<listcomp>)\n",
      "        1    0.057    0.057    0.058    0.058 <ipython-input-20-f297cc635c86>:23(<listcomp>)\n",
      "        1    0.056    0.056    2.589    2.589 <ipython-input-23-cd0721d44fc2>:4(<module>)\n",
      "        1    0.032    0.032    0.036    0.036 {method 'readlines' of '_io._IOBase' objects}\n",
      "    36831    0.022    0.000    0.022    0.000 {built-in method builtins.len}\n",
      "    11935    0.020    0.000    0.020    0.000 <ipython-input-20-f297cc635c86>:38(<listcomp>)\n",
      "    23870    0.014    0.000    0.014    0.000 {method 'append' of 'collections.deque' objects}\n",
      "        2    0.002    0.001    0.002    0.001 <ipython-input-20-f297cc635c86>:89(<listcomp>)\n",
      "        1    0.002    0.002   10.485   10.485 <ipython-input-23-cd0721d44fc2>:5(<module>)\n",
      "      492    0.002    0.000    0.004    0.000 /home/adrian/anaconda3/envs/DStools/lib/python3.5/codecs.py:318(decode)\n",
      "        1    0.002    0.002   10.483   10.483 <ipython-input-20-f297cc635c86>:92(get_frequent_items)\n",
      "      492    0.002    0.000    0.002    0.000 {built-in method _codecs.utf_8_decode}\n",
      "        1    0.000    0.000    0.001    0.001 {built-in method io.open}\n",
      "        1    0.000    0.000    0.000    0.000 {built-in method builtins.print}\n",
      "        3    0.000    0.000    0.000    0.000 {built-in method builtins.compile}\n",
      "        3    0.000    0.000   13.074    4.358 /home/adrian/anaconda3/envs/DStools/lib/python3.5/site-packages/IPython/core/interactiveshell.py:2855(run_code)\n",
      "        2    0.000    0.000    0.000    0.000 /home/adrian/anaconda3/envs/DStools/lib/python3.5/site-packages/ipykernel/iostream.py:308(write)\n",
      "        3    0.000    0.000    0.000    0.000 /home/adrian/anaconda3/envs/DStools/lib/python3.5/codeop.py:132(__call__)\n",
      "        1    0.000    0.000    0.000    0.000 {method 'write' of '_io.FileIO' objects}\n",
      "        1    0.000    0.000    0.000    0.000 /home/adrian/anaconda3/envs/DStools/lib/python3.5/site-packages/tornado/ioloop.py:928(add_callback)\n",
      "        2    0.000    0.000    0.000    0.000 /home/adrian/anaconda3/envs/DStools/lib/python3.5/site-packages/ipykernel/iostream.py:240(_schedule_flush)\n",
      "        2    0.000    0.000    0.002    0.001 <ipython-input-20-f297cc635c86>:78(_filter_candidates)\n",
      "        3    0.000    0.000    0.000    0.000 /home/adrian/anaconda3/envs/DStools/lib/python3.5/site-packages/IPython/core/hooks.py:127(__call__)\n",
      "        1    0.000    0.000    0.000    0.000 /home/adrian/anaconda3/envs/DStools/lib/python3.5/site-packages/tornado/stack_context.py:253(wrap)\n",
      "        3    0.000    0.000   13.074    4.358 {built-in method builtins.exec}\n",
      "        2    0.000    0.000    0.000    0.000 /home/adrian/anaconda3/envs/DStools/lib/python3.5/site-packages/ipykernel/iostream.py:227(_is_master_process)\n",
      "        1    0.000    0.000    0.000    0.000 /home/adrian/anaconda3/envs/DStools/lib/python3.5/_bootlocale.py:23(getpreferredencoding)\n",
      "        3    0.000    0.000    0.000    0.000 /home/adrian/anaconda3/envs/DStools/lib/python3.5/site-packages/IPython/utils/ipstruct.py:125(__getattr__)\n",
      "        1    0.000    0.000    0.000    0.000 {built-in method _locale.nl_langinfo}\n",
      "        1    0.000    0.000    0.000    0.000 /home/adrian/anaconda3/envs/DStools/lib/python3.5/site-packages/tornado/platform/posix.py:53(wake)\n",
      "        1    0.000    0.000    0.000    0.000 /home/adrian/anaconda3/envs/DStools/lib/python3.5/codecs.py:308(__init__)\n",
      "        1    0.000    0.000    0.000    0.000 <ipython-input-23-cd0721d44fc2>:6(<module>)\n",
      "        1    0.000    0.000    0.000    0.000 {built-in method builtins.hasattr}\n",
      "        3    0.000    0.000    0.000    0.000 /home/adrian/anaconda3/envs/DStools/lib/python3.5/site-packages/IPython/core/interactiveshell.py:1087(user_global_ns)\n",
      "        1    0.000    0.000    0.000    0.000 /home/adrian/anaconda3/envs/DStools/lib/python3.5/codecs.py:259(__init__)\n",
      "        2    0.000    0.000    0.000    0.000 {built-in method builtins.isinstance}\n",
      "        3    0.000    0.000    0.000    0.000 /home/adrian/anaconda3/envs/DStools/lib/python3.5/site-packages/IPython/core/hooks.py:192(pre_run_code_hook)\n",
      "        2    0.000    0.000    0.000    0.000 {method 'write' of '_io.StringIO' objects}\n",
      "        1    0.000    0.000    0.000    0.000 {built-in method _thread.get_ident}\n",
      "        1    0.000    0.000    0.000    0.000 {method 'items' of 'dict' objects}\n",
      "        2    0.000    0.000    0.000    0.000 {built-in method posix.getpid}\n",
      "        1    0.000    0.000    0.000    0.000 {method 'disable' of '_lsprof.Profiler' objects}\n",
      "        1    0.000    0.000    0.000    0.000 {method 'append' of 'list' objects}\n",
      "\n",
      "\n",
      "\n"
     ]
    }
   ],
   "source": [
    "import cProfile, pstats, io\n",
    "pr = cProfile.Profile()\n",
    "pr.enable()\n",
    "fi = Frequent_items('data/T10I4D100K.dat')\n",
    "print(fi.get_frequent_items(2000))\n",
    "pr.disable()\n",
    "s = io.StringIO()\n",
    "sortby = 'time'\n",
    "ps = pstats.Stats(pr, stream=s).sort_stats(sortby)\n",
    "ps.print_stats()\n",
    "print(s.getvalue())"
   ]
  }
 ],
 "metadata": {
  "kernelspec": {
   "display_name": "Python 3",
   "language": "python",
   "name": "python3"
  },
  "language_info": {
   "codemirror_mode": {
    "name": "ipython",
    "version": 3
   },
   "file_extension": ".py",
   "mimetype": "text/x-python",
   "name": "python",
   "nbconvert_exporter": "python",
   "pygments_lexer": "ipython3",
   "version": "3.5.1"
  }
 },
 "nbformat": 4,
 "nbformat_minor": 1
}
