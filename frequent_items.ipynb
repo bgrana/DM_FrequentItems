{
 "cells": [
  {
   "cell_type": "code",
   "execution_count": 27,
   "metadata": {
    "collapsed": true
   },
   "outputs": [],
   "source": [
    "from itertools import combinations,product,groupby\n",
    "from collections import Counter\n",
    "import numpy as np"
   ]
  },
  {
   "cell_type": "code",
   "execution_count": 245,
   "metadata": {
    "collapsed": false
   },
   "outputs": [],
   "source": [
    "class Frequent_items:\n",
    "    def __init__(self, support):\n",
    "        self.support = support\n",
    "        with open(\"data/T10I4D100K.dat\", \"r\") as f:\n",
    "            self.itemsets = f.read().split(\"\\n\")\n",
    "            self.itemsets = [set([int(x) for x in t.split()]) for t in self.itemsets]\n",
    "        #self.itemsets = [{\"A\",\"C\",\"D\"}, {\"B\",\"C\",\"E\"}, {\"A\",\"B\",\"C\",\"E\"}, {\"B\",\"E\"}]\n",
    "    def _count(self, sets):\n",
    "        supports = {tuple(k):0 for k in sets}\n",
    "        for t in self.itemsets:\n",
    "            for c in sets:\n",
    "                if c.issubset(t):\n",
    "                    supports[tuple(c)] += 1\n",
    "        return supports\n",
    "    \n",
    "    def get_ck(self, lprev):\n",
    "        k = len(lprev[0])+1\n",
    "        a = set()\n",
    "        for elem1 in lprev:\n",
    "            for elem2 in lprev:\n",
    "                x = tuple(elem1 | elem2)\n",
    "                if len(x) == k:\n",
    "                    a.add(x)\n",
    "        ck = []\n",
    "        for elem in a:\n",
    "            combs = list(combinations(elem,k-1))\n",
    "            for i in range(len(combs)):\n",
    "                if set(combs[i]) not in lprev:\n",
    "                    break\n",
    "                if i == len(combs)-1:\n",
    "                    ck.append(set(elem))\n",
    "        return self._count(ck)\n",
    "\n",
    "    def get_Lk(self, cprev):\n",
    "        return [set(k) for k,v in cprev.items() if v >= self.support]"
   ]
  },
  {
   "cell_type": "code",
   "execution_count": null,
   "metadata": {
    "collapsed": false
   },
   "outputs": [
    {
     "name": "stdout",
     "output_type": "stream",
     "text": [
      "[{829}, {766}, {422}, {716}, {309}, {259}, {196}, {788}, {33}, {675}, {944}, {205}, {910}, {797}, {424}, {361}, {390}, {684}, {890}, {571}, {214}, {919}, {521}, {51}, {630}, {1}, {580}, {912}, {530}, {173}, {110}, {815}, {736}, {392}, {639}, {10}, {921}, {132}, {69}, {774}, {401}, {632}, {661}, {598}, {867}, {510}, {548}, {112}, {460}, {78}, {704}, {28}, {989}, {234}, {826}, {469}, {763}, {419}, {37}, {998}, {600}, {948}, {885}, {516}, {428}, {722}, {265}, {844}, {487}, {55}, {387}, {618}, {5}, {966}, {274}, {853}, {480}, {534}, {161}, {803}, {740}, {48}, {975}, {283}, {577}, {862}, {489}, {170}, {812}, {749}, {57}, {405}, {649}, {229}, {871}, {116}, {448}, {758}, {129}, {414}, {708}, {351}, {658}, {125}, {75}, {780}, {423}, {25}, {310}, {554}, {197}, {147}, {789}, {995}, {676}, {319}, {240}, {563}, {832}, {513}, {93}, {798}, {735}, {362}, {43}, {572}, {841}, {522}, {52}, {694}, {631}, {963}, {581}, {208}, {913}, {111}, {800}, {653}, {280}, {217}, {859}, {540}, {183}, {104}, {809}, {746}, {70}, {775}, {981}, {511}, {461}, {411}, {348}, {504}, {185}, {122}, {470}, {151}, {72}, {357}, {38}, {949}, {886}, {567}, {899}, {517}, {429}, {366}, {992}, {673}, {895}, {266}, {472}, {526}, {90}, {795}, {438}, {682}, {325}, {6}, {967}, {888}, {275}, {569}, {854}, {162}, {804}, {368}, {334}, {628}, {960}, {641}, {578}, {490}, {171}, {440}, {377}, {58}, {343}, {8}, {935}, {449}, {130}, {336}, {17}, {978}, {239}, {928}, {546}, {126}, {458}, {752}, {718}, {605}, {937}, {874}, {198}, {85}, {790}, {354}, {35}, {614}, {946}, {883}, {207}, {157}, {94}, {720}, {686}, {623}, {279}, {573}, {523}, {792}, {385}, {322}, {964}, {914}, {494}, {175}, {738}, {381}, {394}, {688}, {12}, {591}, {923}, {860}, {541}, {168}, {105}, {810}, {71}, {403}, {634}, {21}, {982}, {663}, {290}, {227}, {932}, {496}, {550}, {177}, {819}, {143}, {769}, {706}, {349}, {991}, {593}, {236}, {941}, {878}, {471}, {765}, {73}, {778}, {39}, {984}, {665}, {308}, {950}, {887}, {258}, {900}, {145}, {32}, {674}, {611}, {561}, {204}, {846}, {527}, {154}, {733}, {41}, {326}, {620}, {952}, {276}, {918}, {163}, {100}, {805}, {692}, {335}, {285}, {579}, {529}, {814}, {378}, {701}, {638}, {970}, {651}, {294}, {857}, {500}, {538}, {181}, {823}, {450}, {744}, {68}, {710}, {597}, {509}, {140}, {782}, {346}, {27}, {988}, {296}, {606}, {120}, {825}, {468}, {678}, {242}, {947}, {884}, {192}, {897}, {834}, {477}, {515}, {784}, {427}, {45}, {687}, {956}, {893}, {574}, {201}, {906}, {843}, {486}, {793}, {373}, {54}, {617}, {4}, {583}, {210}, {97}, {332}, {576}, {115}, {820}, {413}, {707}, {350}, {31}, {594}]\n"
     ]
    }
   ],
   "source": [
    "fi = Frequent_items(1000)\n",
    "c1 = set()\n",
    "for t in fi.itemsets:\n",
    "    c1 = c1.union(t)\n",
    "c1 = fi._count([{x} for x in c1])\n",
    "l = fi.get_Lk(c1)\n",
    "print(l)\n",
    "answer = {tuple(set(x)) for x in l}\n",
    "while l:\n",
    "    ck = fi.get_ck(l)\n",
    "    print(\"ck: \" + str(Counter(ck).most_common(5)))\n",
    "    l = fi.get_Lk(ck)\n",
    "    print(\"l: \" + str(l))\n",
    "    answer = answer.union({tuple(set(x)) for x in l})\n",
    "print(answer)"
   ]
  }
 ],
 "metadata": {
  "kernelspec": {
   "display_name": "Python 3",
   "language": "python",
   "name": "python3"
  },
  "language_info": {
   "codemirror_mode": {
    "name": "ipython",
    "version": 3
   },
   "file_extension": ".py",
   "mimetype": "text/x-python",
   "name": "python",
   "nbconvert_exporter": "python",
   "pygments_lexer": "ipython3",
   "version": "3.4.2"
  }
 },
 "nbformat": 4,
 "nbformat_minor": 1
}
