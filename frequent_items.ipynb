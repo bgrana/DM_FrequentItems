{
 "cells": [
  {
   "cell_type": "code",
   "execution_count": 1,
   "metadata": {
    "collapsed": true
   },
   "outputs": [],
   "source": [
    "from itertools import combinations\n",
    "from collections import deque\n",
    "import numpy as np"
   ]
  },
  {
   "cell_type": "code",
   "execution_count": 16,
   "metadata": {
    "collapsed": false
   },
   "outputs": [],
   "source": [
    "class Frequent_items:\n",
    "    \"\"\"Implementation of the Apriori algorithm for frequent itemsets detection proposed\n",
    "    in the paper 'Fast Algorithms for Mining Association Rules' by R. Agrawal and R. Srikant.\n",
    "    \"\"\"\n",
    "    def __init__(self, filepath):\n",
    "        \"\"\"\n",
    "        Initialization method that receives a filepath from which read information.\n",
    "        \n",
    "        filepath:   Path to the file containing the transactions (one per line),\n",
    "                    each represented as a set of integers separated by spaces.\n",
    "        \"\"\"\n",
    "        with open(filepath, \"r\") as f:\n",
    "            self.transactions = {}\n",
    "            for i,line in enumerate(f.readlines()):\n",
    "                for elem in line.split():\n",
    "                    try:\n",
    "                        elem = int(elem)\n",
    "                    except ValueError:\n",
    "                        pass\n",
    "                    if elem not in self.transactions:\n",
    "                        self.transactions[elem] = set()\n",
    "                    self.transactions[elem].add(i)\n",
    "            self.c1 = [({elem}, len(indices)) for elem, indices in self.transactions.items()]\n",
    "\n",
    "    def _get_support(self, itemsets):\n",
    "        \"\"\"\n",
    "        This method computes the support of a collection of itemsets based on the\n",
    "        transactions.\n",
    "        \n",
    "        itemsets: An iterable of Python sets representing itemsets.\n",
    "        returns:  An iterable of 2-tuples where the first element is\n",
    "                  a set (representing an itemset) and the second one\n",
    "                  is an integer (representing the support).\n",
    "        \"\"\"\n",
    "        # Initialize counts\n",
    "        supports = deque()\n",
    "        for iset in itemsets:\n",
    "            common_indices = set.intersection(*[self.transactions[item] for item in iset])\n",
    "            supports.append((iset, len(common_indices)))\n",
    "        return supports\n",
    "    \n",
    "    def _next_candidates(self, lprev):\n",
    "        \"\"\"\n",
    "        Find the set of candidates based on the previous frequent\n",
    "        (k-1)-itemsets.\n",
    "        \n",
    "        lprev:      The collection of previous large (k-1)-itemsets as\n",
    "                    an an iterable of sets.\n",
    "        returns:    An iterable of 2-tuples where the first element is\n",
    "                    a set (representing an itemset) and the second one\n",
    "                    is an integer (representing the support).\n",
    "                \n",
    "        \"\"\"\n",
    "        lprev = [set(itemset) for itemset in lprev.keys()]\n",
    "        k = len(lprev[0])+1\n",
    "        \n",
    "        # Join (k-1)-itemsets to get all candidates of size k\n",
    "        allcandidates = [s1 | s2 for s1 in lprev for s2 in lprev\n",
    "                                 if len(s1 | s2) == k]\n",
    "        \n",
    "        # Filter out candidates which have some (k-1) subset not\n",
    "        # identified as a large (k-1)-itemset\n",
    "        candidates = deque()\n",
    "        for iset in allcandidates:\n",
    "            # Compute subsets of k-1 elements\n",
    "            # Number of (k-1) combinations for a set of\n",
    "            # k elements is precisely k (binomial coefficient(k,k-1))\n",
    "            # so len(subsets) is k\n",
    "            subsets = [set(x) for x in combinations(iset, k-1)]\n",
    "            for i in range(k):\n",
    "                if subsets[i] not in lprev:\n",
    "                    break\n",
    "                if i == k-1 and iset not in candidates: # Last iteration\n",
    "                    candidates.append(iset)\n",
    "            \n",
    "        # Return candidates with their corresponding support\n",
    "        return self._get_support(candidates)\n",
    "\n",
    "    def _filter_candidates(self, candidates):\n",
    "        \"\"\"\n",
    "        This methods select only those candidates such that their\n",
    "        support is greater than or equal the support threshold.\n",
    "        \n",
    "        candidates: An iterable of 2-tuples where the first element is\n",
    "                    a set (representing an itemset) and the second one\n",
    "                    is an integer (representing the support).\n",
    "        returns:    An iterable of itemsets as sets.\n",
    "        \"\"\"\n",
    "        # Filter out itemsets with low support\n",
    "        return {tuple(itemset):sup for itemset,sup in candidates\n",
    "                        if sup >= self.minsup}\n",
    "    \n",
    "    def get_frequent_items(self, minsup):\n",
    "        \"\"\"\n",
    "        Get the frequent items of the loaded transactions based on the\n",
    "        provided support threshold.\n",
    "        \n",
    "        minsup:    Support threshold for the itemsets filtering.\n",
    "        returns:   The identified frequent items as a set of tuples.\n",
    "        \"\"\"\n",
    "        # Initialize variables\n",
    "        self.minsup = minsup\n",
    "        l = fi._filter_candidates(self.c1)\n",
    "        answer = l\n",
    "        \n",
    "        # Updates candidates and answer\n",
    "        while l:\n",
    "            ck = fi._next_candidates(l)\n",
    "            l = fi._filter_candidates(ck)\n",
    "            answer.update(l)\n",
    "        \n",
    "        return answer"
   ]
  },
  {
   "cell_type": "code",
   "execution_count": 17,
   "metadata": {
    "collapsed": false
   },
   "outputs": [
    {
     "data": {
      "text/plain": [
       "{('A',): 2,\n",
       " ('A', 'C'): 2,\n",
       " ('B',): 3,\n",
       " ('B', 'C'): 2,\n",
       " ('C',): 3,\n",
       " ('E',): 3,\n",
       " ('E', 'B'): 3,\n",
       " ('E', 'B', 'C'): 2,\n",
       " ('E', 'C'): 2}"
      ]
     },
     "execution_count": 17,
     "metadata": {},
     "output_type": "execute_result"
    }
   ],
   "source": [
    "fi = Frequent_items(\"data/small_test.dat\")\n",
    "fi.get_frequent_items(2)"
   ]
  },
  {
   "cell_type": "code",
   "execution_count": 18,
   "metadata": {
    "collapsed": false
   },
   "outputs": [
    {
     "data": {
      "text/plain": [
       "{(368,): 7828, (529,): 7057}"
      ]
     },
     "execution_count": 18,
     "metadata": {},
     "output_type": "execute_result"
    }
   ],
   "source": [
    "fi = Frequent_items('data/T10I4D100K.dat')\n",
    "fi.get_frequent_items(7000)"
   ]
  },
  {
   "cell_type": "code",
   "execution_count": 21,
   "metadata": {
    "collapsed": false
   },
   "outputs": [
    {
     "name": "stdout",
     "output_type": "stream",
     "text": [
      "{(960,): 2732, (661,): 2693, (32,): 4248, (598,): 3219, (279,): 3014, (674,): 2527, (829,): 6810, (780,): 2306, (510,): 3281, (548,): 2843, (229,): 2281, (112,): 2680, (523,): 2244, (561,): 2783, (204,): 2174, (871,): 2810, (242,): 2325, (653,): 2634, (280,): 2108, (947,): 3690, (78,): 2471, (217,): 5375, (116,): 2193, (782,): 2767, (192,): 2004, (758,): 2860, (874,): 2237, (183,): 3883, (477,): 2462, (862,): 3649, (809,): 2163, (196,): 2096, (675,): 2976, (663,): 2354, (694,): 2847, (70,): 2411, (620,): 2100, (775,): 3771, (914,): 4037, (494,): 5102, (276,): 2479, (175,): 2791, (825,): 3085, (918,): 3012, (956,): 3626, (738,): 2129, (381,): 2959, (8,): 3090, (419,): 5057, (460,): 4438, (766,): 6265, (797,): 2684, (944,): 2794, (75,): 3151, (998,): 2713, (12,): 3415, (27,): 2165, (205,): 3605, (676,): 2717, (793,): 3063, (692,): 4993, (798,): 3103, (373,): 2007, (411,): 2047, (54,): 2595, (285,): 2600, (579,): 2164, (617,): 2614, (885,): 3043, (368,): 7828, (390,): 2685, (529,): 7057, (684,): 5408, (71,): 3507, (210,): 2009, (788,): 2386, (541,): 3735, (239,): 2742, (634,): 2492, (21,): 2666, (571,): 2902, (470,): 4137, (826,): 2022, (151,): 2611, (72,): 2852, (638,): 2288, (606,): 2668, (970,): 2086, (752,): 2578, (38,): 2402, (177,): 4629, (844,): 2814, (487,): 3135, (795,): 3361, (538,): 3982, (832,): 2062, (886,): 3053, (450,): 2082, (93,): 2777, (744,): 2177, (387,): 2089, (581,): 2943, (937,): 4681, (334,): 2146, (362,): 4388, (57,): 2743, (966,): 3921, (593,): 2601, (236,): 2618, (274,): 2628, (919,): 3710, (854,): 2847, (878,): 2047, (774,): 2046, (597,): 2883, (480,): 2309, (145,): 4559, (161,): 2320, (471,): 2894, (354,): 5835, (509,): 3044, (392,): 2420, (803,): 2237, (73,): 2179, (895,): 3385, (522,): 2725, (48,): 2472, (614,): 3134, (789,): 4309, (140,): 2687, (39,): 4258, (472,): 2125, (883,): 4902, (526,): 2793, (921,): 2425, (346,): 3470, (888,): 3686, (283,): 4082, (438,): 4511, (778,): 2514, (631,): 2793, (413,): 2637, (296,): 2210, (350,): 3069, (489,): 3420, (132,): 2641, (682,): 4132, (69,): 2370, (720,): 3864, (6,): 2149, (401,): 3667, (120,): 4973, (349,): 2041, (569,): 2835, (722,): 5845}\n",
      "         1207786 function calls in 15.118 seconds\n",
      "\n",
      "   Ordered by: internal time\n",
      "\n",
      "   ncalls  tottime  percall  cumtime  percall filename:lineno(function)\n",
      "        1   10.386   10.386   12.449   12.449 <ipython-input-16-fcd0c842428e>:42(_next_candidates)\n",
      "        1    1.864    1.864    1.906    1.906 <ipython-input-16-fcd0c842428e>:25(_get_support)\n",
      "        1    1.691    1.691    2.606    2.606 <ipython-input-16-fcd0c842428e>:5(__init__)\n",
      "  1010228    0.709    0.000    0.709    0.000 {method 'add' of 'set' objects}\n",
      "   100000    0.131    0.000    0.131    0.000 {method 'split' of 'str' objects}\n",
      "    23870    0.074    0.000    0.074    0.000 <ipython-input-16-fcd0c842428e>:69(<listcomp>)\n",
      "        1    0.062    0.062    0.075    0.075 <ipython-input-16-fcd0c842428e>:58(<listcomp>)\n",
      "        1    0.055    0.055    2.661    2.661 <ipython-input-21-cd0721d44fc2>:4(<module>)\n",
      "        1    0.035    0.035    0.042    0.042 {method 'readlines' of '_io._IOBase' objects}\n",
      "        1    0.030    0.030    0.031    0.031 <ipython-input-16-fcd0c842428e>:23(<listcomp>)\n",
      "    11935    0.024    0.000    0.024    0.000 <ipython-input-16-fcd0c842428e>:38(<listcomp>)\n",
      "    36831    0.022    0.000    0.022    0.000 {built-in method builtins.len}\n",
      "    23870    0.016    0.000    0.016    0.000 {method 'append' of 'collections.deque' objects}\n",
      "      492    0.006    0.000    0.007    0.000 /home/adrian/anaconda3/envs/DStools/lib/python3.5/codecs.py:318(decode)\n",
      "        2    0.002    0.001    0.002    0.001 <ipython-input-16-fcd0c842428e>:90(<dictcomp>)\n",
      "        1    0.002    0.002   12.456   12.456 <ipython-input-21-cd0721d44fc2>:5(<module>)\n",
      "        1    0.002    0.002    0.002    0.002 {built-in method io.open}\n",
      "        1    0.002    0.002   12.454   12.454 <ipython-input-16-fcd0c842428e>:93(get_frequent_items)\n",
      "      492    0.002    0.000    0.002    0.000 {built-in method _codecs.utf_8_decode}\n",
      "        3    0.000    0.000    0.000    0.000 {built-in method builtins.compile}\n",
      "        1    0.000    0.000    0.000    0.000 {built-in method builtins.print}\n",
      "        3    0.000    0.000   15.117    5.039 /home/adrian/anaconda3/envs/DStools/lib/python3.5/site-packages/IPython/core/interactiveshell.py:2855(run_code)\n",
      "        1    0.000    0.000    0.000    0.000 <ipython-input-16-fcd0c842428e>:54(<listcomp>)\n",
      "        2    0.000    0.000    0.000    0.000 /home/adrian/anaconda3/envs/DStools/lib/python3.5/site-packages/ipykernel/iostream.py:240(_schedule_flush)\n",
      "        3    0.000    0.000   15.117    5.039 {built-in method builtins.exec}\n",
      "        2    0.000    0.000    0.000    0.000 /home/adrian/anaconda3/envs/DStools/lib/python3.5/site-packages/ipykernel/iostream.py:308(write)\n",
      "        3    0.000    0.000    0.000    0.000 /home/adrian/anaconda3/envs/DStools/lib/python3.5/codeop.py:132(__call__)\n",
      "        1    0.000    0.000    0.000    0.000 /home/adrian/anaconda3/envs/DStools/lib/python3.5/site-packages/tornado/ioloop.py:928(add_callback)\n",
      "        1    0.000    0.000    0.000    0.000 {method 'write' of '_io.FileIO' objects}\n",
      "        2    0.000    0.000    0.002    0.001 <ipython-input-16-fcd0c842428e>:79(_filter_candidates)\n",
      "        3    0.000    0.000    0.000    0.000 /home/adrian/anaconda3/envs/DStools/lib/python3.5/site-packages/IPython/core/hooks.py:127(__call__)\n",
      "        1    0.000    0.000    0.000    0.000 /home/adrian/anaconda3/envs/DStools/lib/python3.5/site-packages/tornado/stack_context.py:253(wrap)\n",
      "        1    0.000    0.000    0.000    0.000 /home/adrian/anaconda3/envs/DStools/lib/python3.5/_bootlocale.py:23(getpreferredencoding)\n",
      "        3    0.000    0.000    0.000    0.000 /home/adrian/anaconda3/envs/DStools/lib/python3.5/site-packages/IPython/utils/ipstruct.py:125(__getattr__)\n",
      "        2    0.000    0.000    0.000    0.000 /home/adrian/anaconda3/envs/DStools/lib/python3.5/site-packages/ipykernel/iostream.py:227(_is_master_process)\n",
      "        1    0.000    0.000    0.000    0.000 <ipython-input-21-cd0721d44fc2>:6(<module>)\n",
      "        1    0.000    0.000    0.000    0.000 {built-in method builtins.hasattr}\n",
      "        1    0.000    0.000    0.000    0.000 {method 'update' of 'dict' objects}\n",
      "        1    0.000    0.000    0.000    0.000 /home/adrian/anaconda3/envs/DStools/lib/python3.5/site-packages/tornado/platform/posix.py:53(wake)\n",
      "        1    0.000    0.000    0.000    0.000 {built-in method _locale.nl_langinfo}\n",
      "        1    0.000    0.000    0.000    0.000 /home/adrian/anaconda3/envs/DStools/lib/python3.5/codecs.py:308(__init__)\n",
      "        2    0.000    0.000    0.000    0.000 {built-in method builtins.isinstance}\n",
      "        3    0.000    0.000    0.000    0.000 /home/adrian/anaconda3/envs/DStools/lib/python3.5/site-packages/IPython/core/interactiveshell.py:1087(user_global_ns)\n",
      "        2    0.000    0.000    0.000    0.000 {method 'write' of '_io.StringIO' objects}\n",
      "        3    0.000    0.000    0.000    0.000 /home/adrian/anaconda3/envs/DStools/lib/python3.5/site-packages/IPython/core/hooks.py:192(pre_run_code_hook)\n",
      "        2    0.000    0.000    0.000    0.000 {built-in method posix.getpid}\n",
      "        1    0.000    0.000    0.000    0.000 /home/adrian/anaconda3/envs/DStools/lib/python3.5/codecs.py:259(__init__)\n",
      "        1    0.000    0.000    0.000    0.000 {method 'items' of 'dict' objects}\n",
      "        1    0.000    0.000    0.000    0.000 {method 'keys' of 'dict' objects}\n",
      "        1    0.000    0.000    0.000    0.000 {built-in method _thread.get_ident}\n",
      "        1    0.000    0.000    0.000    0.000 {method 'append' of 'list' objects}\n",
      "        1    0.000    0.000    0.000    0.000 {method 'disable' of '_lsprof.Profiler' objects}\n",
      "\n",
      "\n",
      "\n"
     ]
    }
   ],
   "source": [
    "import cProfile, pstats, io\n",
    "pr = cProfile.Profile()\n",
    "pr.enable()\n",
    "fi = Frequent_items('data/T10I4D100K.dat')\n",
    "print(fi.get_frequent_items(2000))\n",
    "pr.disable()\n",
    "s = io.StringIO()\n",
    "sortby = 'time'\n",
    "ps = pstats.Stats(pr, stream=s).sort_stats(sortby)\n",
    "ps.print_stats()\n",
    "print(s.getvalue())"
   ]
  },
  {
   "cell_type": "code",
   "execution_count": 5,
   "metadata": {
    "collapsed": false
   },
   "outputs": [
    {
     "name": "stdout",
     "output_type": "stream",
     "text": [
      "[{1}, {4}, {5}, {6}, {8}, {10}, {12}, {17}, {21}, {25}, {27}, {28}, {31}, {32}, {33}, {35}, {37}, {38}, {39}, {41}, {43}, {45}, {48}, {51}, {52}, {54}, {55}, {57}, {58}, {68}, {69}, {70}, {71}, {72}, {73}, {75}, {78}, {85}, {90}, {93}, {94}, {97}, {100}, {104}, {105}, {110}, {111}, {112}, {115}, {116}, {120}, {122}, {125}, {126}, {129}, {130}, {132}, {140}, {143}, {145}, {147}, {151}, {154}, {157}, {161}, {162}, {163}, {168}, {170}, {171}, {173}, {175}, {177}, {181}, {183}, {185}, {192}, {196}, {197}, {198}, {201}, {204}, {205}, {207}, {208}, {210}, {214}, {217}, {227}, {229}, {234}, {236}, {239}, {240}, {242}, {258}, {259}, {265}, {266}, {274}, {275}, {276}, {279}, {280}, {283}, {285}, {290}, {294}, {296}, {308}, {309}, {310}, {319}, {322}, {325}, {326}, {332}, {334}, {335}, {336}, {343}, {346}, {348}, {349}, {350}, {351}, {354}, {357}, {361}, {362}, {366}, {368}, {373}, {377}, {378}, {381}, {385}, {387}, {390}, {392}, {394}, {401}, {403}, {405}, {411}, {413}, {414}, {419}, {422}, {423}, {424}, {427}, {428}, {429}, {438}, {440}, {448}, {449}, {450}, {458}, {460}, {461}, {468}, {469}, {470}, {471}, {472}, {477}, {480}, {486}, {487}, {489}, {490}, {494}, {496}, {500}, {504}, {509}, {510}, {511}, {513}, {515}, {516}, {517}, {521}, {522}, {523}, {526}, {527}, {529}, {530}, {534}, {538}, {540}, {541}, {546}, {548}, {550}, {554}, {561}, {563}, {567}, {569}, {571}, {572}, {573}, {574}, {576}, {577}, {578}, {579}, {580}, {581}, {583}, {591}, {593}, {594}, {597}, {598}, {600}, {605}, {606}, {611}, {614}, {617}, {618}, {620}, {623}, {628}, {630}, {631}, {632}, {634}, {638}, {639}, {641}, {649}, {651}, {653}, {658}, {661}, {663}, {665}, {673}, {674}, {675}, {676}, {678}, {682}, {684}, {686}, {687}, {688}, {692}, {694}, {701}, {704}, {706}, {707}, {708}, {710}, {716}, {718}, {720}, {722}, {733}, {735}, {736}, {738}, {740}, {744}, {746}, {749}, {752}, {758}, {763}, {765}, {766}, {769}, {774}, {775}, {778}, {780}, {782}, {784}, {788}, {789}, {790}, {792}, {793}, {795}, {797}, {798}, {800}, {803}, {804}, {805}, {809}, {810}, {812}, {814}, {815}, {819}, {820}, {823}, {825}, {826}, {829}, {832}, {834}, {841}, {843}, {844}, {846}, {853}, {854}, {857}, {859}, {860}, {862}, {867}, {871}, {874}, {878}, {883}, {884}, {885}, {886}, {887}, {888}, {890}, {893}, {895}, {897}, {899}, {900}, {906}, {910}, {912}, {913}, {914}, {918}, {919}, {921}, {923}, {928}, {932}, {935}, {937}, {941}, {944}, {946}, {947}, {948}, {949}, {950}, {952}, {956}, {960}, {963}, {964}, {966}, {967}, {970}, {975}, {978}, {981}, {982}, {984}, {988}, {989}, {991}, {992}, {995}, {998}, {704, 39}, {825, 39}, {217, 346}, {227, 390}, {368, 682}, {368, 829}, {722, 390}, {704, 825}, {829, 789}, {704, 825, 39}]\n",
      "         1673633 function calls in 482.247 seconds\n",
      "\n",
      "   Ordered by: internal time\n",
      "\n",
      "   ncalls  tottime  percall  cumtime  percall filename:lineno(function)\n",
      "        3  471.499  157.166  479.351  159.784 <ipython-input-2-f297cc635c86>:42(_next_candidates)\n",
      "        3    6.030    2.010    6.255    2.085 <ipython-input-2-f297cc635c86>:25(_get_support)\n",
      "        1    1.875    1.875    2.796    2.796 <ipython-input-2-f297cc635c86>:5(__init__)\n",
      "   140262    1.067    0.000    1.067    0.000 <ipython-input-2-f297cc635c86>:68(<listcomp>)\n",
      "  1010228    0.735    0.000    0.735    0.000 {method 'add' of 'set' objects}\n",
      "        3    0.367    0.122    0.440    0.147 <ipython-input-2-f297cc635c86>:57(<listcomp>)\n",
      "   100000    0.140    0.000    0.140    0.000 {method 'split' of 'str' objects}\n",
      "   140252    0.133    0.000    0.133    0.000 {method 'append' of 'collections.deque' objects}\n",
      "    70126    0.128    0.000    0.128    0.000 <ipython-input-2-f297cc635c86>:38(<listcomp>)\n",
      "   211706    0.128    0.000    0.128    0.000 {built-in method builtins.len}\n",
      "        1    0.058    0.058    2.854    2.854 <ipython-input-5-4f71becd5cca>:4(<module>)\n",
      "        1    0.035    0.035    0.041    0.041 {method 'readlines' of '_io._IOBase' objects}\n",
      "        1    0.026    0.026  479.392  479.392 <ipython-input-2-f297cc635c86>:92(get_frequent_items)\n",
      "        4    0.014    0.004    0.014    0.004 <ipython-input-2-f297cc635c86>:89(<listcomp>)\n",
      "        1    0.005    0.005    0.005    0.005 <ipython-input-2-f297cc635c86>:23(<listcomp>)\n",
      "      492    0.004    0.000    0.004    0.000 {built-in method _codecs.utf_8_decode}\n",
      "      492    0.002    0.000    0.006    0.000 /home/adrian/anaconda3/envs/DStools/lib/python3.5/codecs.py:318(decode)\n",
      "        1    0.001    0.001    0.001    0.001 {built-in method io.open}\n",
      "        1    0.001    0.001    0.001    0.001 {built-in method builtins.print}\n",
      "        3    0.000    0.000    0.000    0.000 {built-in method builtins.compile}\n",
      "        1    0.000    0.000  479.393  479.393 <ipython-input-5-4f71becd5cca>:5(<module>)\n",
      "        3    0.000    0.000  482.247  160.749 /home/adrian/anaconda3/envs/DStools/lib/python3.5/site-packages/IPython/core/interactiveshell.py:2855(run_code)\n",
      "        3    0.000    0.000    0.000    0.000 /home/adrian/anaconda3/envs/DStools/lib/python3.5/codeop.py:132(__call__)\n",
      "        4    0.000    0.000    0.014    0.004 <ipython-input-2-f297cc635c86>:78(_filter_candidates)\n",
      "        1    0.000    0.000    0.000    0.000 /home/adrian/anaconda3/envs/DStools/lib/python3.5/site-packages/tornado/ioloop.py:928(add_callback)\n",
      "        2    0.000    0.000    0.000    0.000 /home/adrian/anaconda3/envs/DStools/lib/python3.5/site-packages/ipykernel/iostream.py:308(write)\n",
      "        2    0.000    0.000    0.000    0.000 /home/adrian/anaconda3/envs/DStools/lib/python3.5/site-packages/ipykernel/iostream.py:240(_schedule_flush)\n",
      "        1    0.000    0.000    0.000    0.000 {method 'write' of '_io.FileIO' objects}\n",
      "        3    0.000    0.000    0.000    0.000 /home/adrian/anaconda3/envs/DStools/lib/python3.5/site-packages/IPython/core/hooks.py:127(__call__)\n",
      "        3    0.000    0.000  482.247  160.749 {built-in method builtins.exec}\n",
      "        1    0.000    0.000    0.000    0.000 /home/adrian/anaconda3/envs/DStools/lib/python3.5/site-packages/tornado/stack_context.py:253(wrap)\n",
      "        3    0.000    0.000    0.000    0.000 /home/adrian/anaconda3/envs/DStools/lib/python3.5/site-packages/IPython/utils/ipstruct.py:125(__getattr__)\n",
      "        2    0.000    0.000    0.000    0.000 /home/adrian/anaconda3/envs/DStools/lib/python3.5/site-packages/ipykernel/iostream.py:227(_is_master_process)\n",
      "        1    0.000    0.000    0.000    0.000 /home/adrian/anaconda3/envs/DStools/lib/python3.5/_bootlocale.py:23(getpreferredencoding)\n",
      "        1    0.000    0.000    0.000    0.000 <ipython-input-5-4f71becd5cca>:6(<module>)\n",
      "        1    0.000    0.000    0.000    0.000 /home/adrian/anaconda3/envs/DStools/lib/python3.5/site-packages/tornado/platform/posix.py:53(wake)\n",
      "        1    0.000    0.000    0.000    0.000 {built-in method builtins.hasattr}\n",
      "        3    0.000    0.000    0.000    0.000 /home/adrian/anaconda3/envs/DStools/lib/python3.5/site-packages/IPython/core/interactiveshell.py:1087(user_global_ns)\n",
      "        2    0.000    0.000    0.000    0.000 {method 'write' of '_io.StringIO' objects}\n",
      "        1    0.000    0.000    0.000    0.000 {built-in method _locale.nl_langinfo}\n",
      "        1    0.000    0.000    0.000    0.000 /home/adrian/anaconda3/envs/DStools/lib/python3.5/codecs.py:308(__init__)\n",
      "        2    0.000    0.000    0.000    0.000 {built-in method builtins.isinstance}\n",
      "        2    0.000    0.000    0.000    0.000 {built-in method posix.getpid}\n",
      "        3    0.000    0.000    0.000    0.000 /home/adrian/anaconda3/envs/DStools/lib/python3.5/site-packages/IPython/core/hooks.py:192(pre_run_code_hook)\n",
      "        1    0.000    0.000    0.000    0.000 {method 'items' of 'dict' objects}\n",
      "        1    0.000    0.000    0.000    0.000 /home/adrian/anaconda3/envs/DStools/lib/python3.5/codecs.py:259(__init__)\n",
      "        1    0.000    0.000    0.000    0.000 {built-in method _thread.get_ident}\n",
      "        1    0.000    0.000    0.000    0.000 {method 'append' of 'list' objects}\n",
      "        1    0.000    0.000    0.000    0.000 {method 'disable' of '_lsprof.Profiler' objects}\n",
      "\n",
      "\n",
      "\n"
     ]
    }
   ],
   "source": [
    "import cProfile, pstats, io\n",
    "pr = cProfile.Profile()\n",
    "pr.enable()\n",
    "fi = Frequent_items('data/T10I4D100K.dat')\n",
    "print(fi.get_frequent_items(1000))\n",
    "pr.disable()\n",
    "s = io.StringIO()\n",
    "sortby = 'time'\n",
    "ps = pstats.Stats(pr, stream=s).sort_stats(sortby)\n",
    "ps.print_stats()\n",
    "print(s.getvalue())"
   ]
  }
 ],
 "metadata": {
  "kernelspec": {
   "display_name": "Python 3",
   "language": "python",
   "name": "python3"
  },
  "language_info": {
   "codemirror_mode": {
    "name": "ipython",
    "version": 3
   },
   "file_extension": ".py",
   "mimetype": "text/x-python",
   "name": "python",
   "nbconvert_exporter": "python",
   "pygments_lexer": "ipython3",
   "version": "3.5.1"
  }
 },
 "nbformat": 4,
 "nbformat_minor": 1
}
